{
 "cells": [
  {
   "cell_type": "code",
   "execution_count": 1,
   "id": "1a2e53e0",
   "metadata": {},
   "outputs": [],
   "source": [
    "import pandas as pd\n",
    "import torch\n",
    "import torch.nn as nn\n",
    "import torch.optim as optim\n",
    "from torch.utils.data import Dataset, DataLoader\n",
    "from sklearn.model_selection import train_test_split\n",
    "from sklearn.preprocessing import LabelEncoder\n",
    "from torch.nn.utils.rnn import pad_sequence\n",
    "from gensim.models import Word2Vec\n"
   ]
  },
  {
   "cell_type": "code",
   "execution_count": 10,
   "id": "929e0ce5",
   "metadata": {},
   "outputs": [],
   "source": [
    "def preprocess_data(data_path):\n",
    "    \n",
    "    df = pd.read_csv(data_path)\n",
    "\n",
    "    df.dropna(inplace=True)\n",
    "\n",
    "    reviews = df['content'].values\n",
    "    labels = df['score'].values\n",
    "\n",
    "    # Encode the labels\n",
    "    label_encoder = LabelEncoder()\n",
    "    labels = label_encoder.fit_transform(labels)\n",
    "\n",
    "    # Split the data into training and validation sets\n",
    "    train_reviews, val_reviews, train_labels, val_labels = train_test_split(\n",
    "        reviews, labels, test_size=0.2, random_state=42\n",
    "    )\n",
    "\n",
    "    return train_reviews, val_reviews, train_labels, val_labels, label_encoder\n"
   ]
  },
  {
   "cell_type": "code",
   "execution_count": 11,
   "id": "0660e8cf",
   "metadata": {},
   "outputs": [],
   "source": [
    "class LSTMModel(nn.Module):\n",
    "    def __init__(self, vocab_size, embedding_dim, hidden_dim, output_dim):\n",
    "        super(LSTMModel, self).__init__()\n",
    "        self.embedding = nn.Embedding(vocab_size, embedding_dim)\n",
    "        self.lstm = nn.LSTM(embedding_dim, hidden_dim)\n",
    "        self.fc = nn.Linear(hidden_dim, output_dim)\n",
    "\n",
    "    def forward(self, x):\n",
    "        embedded = self.embedding(x)\n",
    "        output, (hidden, cell) = self.lstm(embedded)\n",
    "        hidden = torch.squeeze(hidden, 0)\n",
    "        output = self.fc(hidden)\n",
    "        return output"
   ]
  },
  {
   "cell_type": "code",
   "execution_count": 12,
   "id": "015192cc",
   "metadata": {},
   "outputs": [],
   "source": [
    "class AppReviewsDataset(Dataset):\n",
    "    def __init__(self, reviews, labels, tokenizer, max_length):\n",
    "        self.reviews = reviews\n",
    "        self.labels = labels\n",
    "        self.tokenizer = tokenizer\n",
    "        self.max_length = max_length\n",
    "\n",
    "    def __len__(self):\n",
    "        return len(self.reviews)\n",
    "\n",
    "    def __getitem__(self, idx):\n",
    "        review = self.reviews[idx]\n",
    "        label = self.labels[idx]\n",
    "        encoded_review = self.tokenizer(review)\n",
    "        padded_review = self.pad_sequence(encoded_review)\n",
    "        return padded_review, label\n",
    "\n",
    "    def pad_sequence(self, sequence):\n",
    "        if len(sequence) < self.max_length:\n",
    "            sequence += [0] * (self.max_length - len(sequence))\n",
    "        else:\n",
    "            sequence = sequence[:self.max_length]\n",
    "        return torch.tensor(sequence)\n"
   ]
  },
  {
   "cell_type": "code",
   "execution_count": 1,
   "id": "1bd6a8cf",
   "metadata": {},
   "outputs": [],
   "source": [
    "import gensim.downloader as api\n",
    "\n",
    "# Download the pre-trained Word2Vec model\n",
    "word2vec_model = api.load(\"word2vec-google-news-300\")\n",
    "\n",
    "\n",
    "def tokenize_review(review):\n",
    "    # Split the review into words\n",
    "    tokens = review.split()\n",
    "    # Get the word embeddings for each token\n",
    "    embeddings = [word2vec_model.wv[token] for token in tokens if token in word2vec_model.wv]\n",
    "    # Convert the embeddings to a tensor\n",
    "    return torch.tensor(embeddings)\n",
    "    "
   ]
  },
  {
   "cell_type": "code",
   "execution_count": null,
   "id": "b6daeaa5",
   "metadata": {},
   "outputs": [],
   "source": [
    "vocab_size = 10000  \n",
    "embedding_dim = 100  \n",
    "hidden_dim = 128  \n",
    "output_dim = 5  \n",
    "batch_size = 32  \n",
    "learning_rate = 0.001  \n",
    "num_epochs = 10  \n",
    "max_length = 100  "
   ]
  },
  {
   "cell_type": "code",
   "execution_count": null,
   "id": "4c854c83",
   "metadata": {},
   "outputs": [],
   "source": [
    "train_reviews, val_reviews, train_labels, val_labels, label_encoder = preprocess_data('review_data.csv')"
   ]
  },
  {
   "cell_type": "code",
   "execution_count": 3,
   "id": "4f3cba21",
   "metadata": {},
   "outputs": [],
   "source": [
    "tokenizer = tokenize_review\n",
    "\n",
    "# Create the dataset objects\n",
    "train_dataset = AppReviewsDataset(train_reviews, train_labels, tokenizer, max_length)\n",
    "val_dataset = AppReviewsDataset(val_reviews, val_labels, tokenizer, max_length)\n",
    "\n",
    "# Create the data loaders\n",
    "train_loader = DataLoader(train_dataset, batch_size=batch_size, shuffle=True)\n",
    "val_loader = DataLoader(val_dataset, batch_size=batch_size, shuffle=False)\n"
   ]
  },
  {
   "cell_type": "code",
   "execution_count": 15,
   "id": "5aaa0c21",
   "metadata": {},
   "outputs": [],
   "source": [
    "# Check if GPU is available\n",
    "device = torch.device('cuda' if torch.cuda.is_available() else 'cpu')"
   ]
  },
  {
   "cell_type": "code",
   "execution_count": 16,
   "id": "787b7ed5",
   "metadata": {},
   "outputs": [],
   "source": [
    "# Create the LSTM model\n",
    "model = LSTMModel(vocab_size, embedding_dim, hidden_dim, output_dim).to(device)\n",
    "\n",
    "# Define the loss function and optimizer\n",
    "criterion = nn.CrossEntropyLoss()\n",
    "optimizer = optim.Adam(model.parameters(), lr=learning_rate)"
   ]
  },
  {
   "cell_type": "code",
   "execution_count": 6,
   "id": "93eaffbf",
   "metadata": {},
   "outputs": [],
   "source": [
    "for epoch in range(num_epochs):\n",
    "    model.train()\n",
    "    total_loss = 0\n",
    "    total_correct = 0\n",
    "    total_samples = 0\n",
    "\n",
    "    for inputs, labels in train_loader:\n",
    "        inputs = inputs.to(device)\n",
    "        labels = labels.to(device)\n",
    "\n",
    "        # Forward pass\n",
    "        outputs = model(inputs)\n",
    "        loss = criterion(outputs, labels)\n",
    "\n",
    "        # Backward and optimize\n",
    "        optimizer.zero_grad()\n",
    "        loss.backward()\n",
    "        optimizer.step()\n",
    "\n",
    "        # Calculate accuracy\n",
    "        _, predicted = torch.max(outputs.data, 1)\n",
    "        total_samples += labels.size(0)\n",
    "        total_correct += (predicted == labels).sum().item()\n",
    "\n",
    "        total_loss += loss.item()\n",
    "\n",
    "    train_accuracy = total_correct / total_samples\n",
    "    train_loss = total_loss / len(train_loader)\n",
    "\n",
    "    # Validation loop\n",
    "    model.eval()\n",
    "    val_loss = 0\n",
    "    val_correct = 0\n",
    "    val_samples = 0\n",
    "\n",
    "    with torch.no_grad():\n",
    "        for inputs, labels in val_loader:\n",
    "            inputs = inputs.to(device)\n",
    "            labels = labels.to(device)\n",
    "\n",
    "            outputs = model(inputs)\n",
    "            loss = criterion(outputs, labels)\n",
    "\n",
    "            _, predicted = torch.max(outputs.data, 1)\n",
    "            val_samples += labels.size(0)\n",
    "            val_correct += (predicted == labels).sum().item()\n",
    "\n",
    "            val_loss += loss.item()\n",
    "\n",
    "    val_accuracy = val_correct / val_samples\n",
    "    val_loss = val_loss / len(val_loader)\n",
    "\n",
    "    print(f'Epoch [{epoch+1}/{num_epochs}], '\n",
    "          f'Train Loss: {train_loss:.4f}, Train Accuracy: {train_accuracy:.4f}, '\n",
    "          f'Val Loss: {val_loss:.4f}, Val Accuracy: {val_accuracy:.4f}')"
   ]
  },
  {
   "cell_type": "code",
   "execution_count": null,
   "id": "0ec2c776",
   "metadata": {},
   "outputs": [],
   "source": []
  }
 ],
 "metadata": {
  "kernelspec": {
   "display_name": "Python 3 (ipykernel)",
   "language": "python",
   "name": "python3"
  },
  "language_info": {
   "codemirror_mode": {
    "name": "ipython",
    "version": 3
   },
   "file_extension": ".py",
   "mimetype": "text/x-python",
   "name": "python",
   "nbconvert_exporter": "python",
   "pygments_lexer": "ipython3",
   "version": "3.9.12"
  }
 },
 "nbformat": 4,
 "nbformat_minor": 5
}
